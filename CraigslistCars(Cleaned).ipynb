{
 "cells": [
  {
   "cell_type": "code",
   "execution_count": 17,
   "id": "41ba14cb-6510-4402-8a9d-405e0c37a01c",
   "metadata": {},
   "outputs": [],
   "source": [
    "import pandas as pd"
   ]
  },
  {
   "cell_type": "code",
   "execution_count": 18,
   "id": "cfbf00b8-82a6-4f56-9bfc-98f1692648f0",
   "metadata": {},
   "outputs": [],
   "source": [
    "# Store file\n",
    "data = pd.read_csv(r\"C:\\Users\\dtdra\\Desktop\\CarPortfolio\\Cars.csv\", encoding='unicode_escape')"
   ]
  },
  {
   "cell_type": "code",
   "execution_count": 19,
   "id": "9fb2a5b9-ba0d-4b8b-a890-4df56ca98a52",
   "metadata": {},
   "outputs": [
    {
     "name": "stdout",
     "output_type": "stream",
     "text": [
      "          ID   PostDate                 State                 Region  Year  \\\n",
      "88358  88359   5/2/2021                 Maine                  Maine  1973   \n",
      "69933  69934  4/29/2021                  Ohio               Columbus  2000   \n",
      "65034  65035  4/28/2021                Oregon            East Oregon  1980   \n",
      "11881  11882  4/11/2021            California                Modesto  2007   \n",
      "9639    9640   4/9/2021        South Carolina   Greenville / Upstate  2014   \n",
      "65719  65720  4/28/2021                 Texas            San Antonio  2017   \n",
      "32208  32209  4/20/2021               Florida     Sarasota-Bradenton  2013   \n",
      "97315  97316   5/3/2021        North Carolina  Raleigh / Durham / Ch  2019   \n",
      "36335  36336  4/21/2021                Oregon                 Eugene  2012   \n",
      "49760  49761  4/25/2021            California        Fresno / Madera  2008   \n",
      "31912  31913  4/20/2021            California        San Luis Obispo  2015   \n",
      "38447  38448  4/22/2021              Michigan           Grand Rapids  2016   \n",
      "46737  46738  4/24/2021               Georgia                Augusta  2003   \n",
      "85812  85813   5/2/2021                Alaska     Anchorage / Mat-Su  2014   \n",
      "44159  44160  4/23/2021                  Ohio               Columbus  2019   \n",
      "87547  87548   5/2/2021               Florida     Sarasota-Bradenton  2009   \n",
      "93969  93970   5/3/2021  District of Columbia         Washington, Dc  2009   \n",
      "34899  34900  4/21/2021              Illinois           St Louis, Mo  2015   \n",
      "64555  64556  4/28/2021              New York          Hudson Valley  2004   \n",
      "16421  16422  4/13/2021          Pennsylvania                   York  2013   \n",
      "\n",
      "                Make                  Model         Type  Mileage   Price  \\\n",
      "88358     Volkswagen                 Beetle        Sedan    32000   13500   \n",
      "69933          Honda  Civic Sport Hatchback        Sedan   100000    1250   \n",
      "65034           Jeep                   Cj 7      Offroad    52000    5500   \n",
      "11881      Chevrolet                 Impala        Coupe   158000    1500   \n",
      "9639        Chrysler         Town & Country     Mini-Van   127000    8900   \n",
      "65719           Ford    F250 Xlt Diesel 4X4        Truck    80365   49989   \n",
      "32208        Lincoln                    Mkx          Suv    71903   15650   \n",
      "97315  Mercedes-Benz     Benz Sprinter 3500  Convertible      190  109000   \n",
      "36335      Chevrolet                  Cruze        Sedan    75254    9995   \n",
      "49760           Ford   Super Duty F-250 Srw        Truck    79725   28450   \n",
      "31912         Toyota    Tacoma Trd Off Road        Truck    65372   29995   \n",
      "38447         Subaru                Outback        Wagon   146000   12995   \n",
      "46737     Volkswagen                 Passat        Wagon   114060    8300   \n",
      "85812          Honda               Crv Ex-L          Suv    65000   20499   \n",
      "44159           Ford                  F-150        Truck    23004   29900   \n",
      "87547           Ford                 Escape          Suv   101000    7595   \n",
      "93969         Toyota                  Prius        Sedan   169000    3500   \n",
      "34899          Mazda                   Cx-5          Suv   132000   11950   \n",
      "64555          Honda                  Civic        Coupe   240005    3000   \n",
      "16421          Honda             Accord Sdn        Sedan   103605   12900   \n",
      "\n",
      "       Condition    Cylinders    Fuel Transmission Drivetrain   Paint  \\\n",
      "88358  Excellent  4 Cylinders     Gas       Manual        FWD  Yellow   \n",
      "69933       Fair  4 Cylinders     Gas    Automatic        RWD  Silver   \n",
      "65034       Good  6 Cylinders     Gas       Manual        AWD   Black   \n",
      "11881       Fair  8 Cylinders     Gas    Automatic        RWD  Silver   \n",
      "9639         New  6 Cylinders     Gas    Automatic        FWD   Black   \n",
      "65719  Excellent  8 Cylinders  Diesel    Automatic        AWD   White   \n",
      "32208  Excellent  6 Cylinders     Gas    Automatic        FWD  Silver   \n",
      "97315  Excellent  6 Cylinders  Diesel    Automatic        FWD   White   \n",
      "36335  Excellent  6 Cylinders     Gas    Automatic        FWD   White   \n",
      "49760  Excellent  8 Cylinders  Diesel    Automatic        AWD   White   \n",
      "31912  Excellent  6 Cylinders     Gas    Automatic        RWD  Silver   \n",
      "38447  Excellent  4 Cylinders     Gas    Automatic        AWD  Silver   \n",
      "46737       Good  8 Cylinders     Gas       Manual        AWD    Blue   \n",
      "85812  Excellent  4 Cylinders     Gas    Automatic        AWD    Blue   \n",
      "44159   Like New  8 Cylinders     Gas    Automatic        RWD   White   \n",
      "87547  Excellent  6 Cylinders     Gas    Automatic        AWD     Red   \n",
      "93969  Excellent  4 Cylinders  Hybrid    Automatic        FWD   White   \n",
      "34899   Like New  4 Cylinders     Gas    Automatic        FWD  Silver   \n",
      "64555   Like New  4 Cylinders     Gas    Automatic        FWD    Grey   \n",
      "16421       Good  6 Cylinders     Gas    Automatic        FWD   Black   \n",
      "\n",
      "      TitleStatus  \n",
      "88358       Clean  \n",
      "69933     Salvage  \n",
      "65034       Clean  \n",
      "11881       Clean  \n",
      "9639        Clean  \n",
      "65719       Clean  \n",
      "32208       Clean  \n",
      "97315       Clean  \n",
      "36335       Clean  \n",
      "49760       Clean  \n",
      "31912       Clean  \n",
      "38447       Clean  \n",
      "46737       Clean  \n",
      "85812       Clean  \n",
      "44159       Clean  \n",
      "87547       Clean  \n",
      "93969       Clean  \n",
      "34899       Clean  \n",
      "64555       Clean  \n",
      "16421       Clean  \n"
     ]
    }
   ],
   "source": [
    "print(data.sample(20))"
   ]
  }
 ],
 "metadata": {
  "kernelspec": {
   "display_name": "Python 3 (ipykernel)",
   "language": "python",
   "name": "python3"
  },
  "language_info": {
   "codemirror_mode": {
    "name": "ipython",
    "version": 3
   },
   "file_extension": ".py",
   "mimetype": "text/x-python",
   "name": "python",
   "nbconvert_exporter": "python",
   "pygments_lexer": "ipython3",
   "version": "3.11.4"
  }
 },
 "nbformat": 4,
 "nbformat_minor": 5
}
