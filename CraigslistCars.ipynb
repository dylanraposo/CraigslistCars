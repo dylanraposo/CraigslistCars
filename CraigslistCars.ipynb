{
 "cells": [
  {
   "cell_type": "code",
   "execution_count": 12,
   "id": "41ba14cb-6510-4402-8a9d-405e0c37a01c",
   "metadata": {},
   "outputs": [],
   "source": [
    "import pandas as pd"
   ]
  },
  {
   "cell_type": "code",
   "execution_count": 13,
   "id": "cfbf00b8-82a6-4f56-9bfc-98f1692648f0",
   "metadata": {},
   "outputs": [],
   "source": [
    "# Store file\n",
    "data = pd.read_csv(r\"C:\\Users\\dtdra\\Desktop\\CarPortfolio\\Cars.csv\", encoding='unicode_escape')"
   ]
  },
  {
   "cell_type": "code",
   "execution_count": 14,
   "id": "9fb2a5b9-ba0d-4b8b-a890-4df56ca98a52",
   "metadata": {},
   "outputs": [
    {
     "name": "stdout",
     "output_type": "stream",
     "text": [
      "   ID  PostDate    State      Region  Year      Make                 Model  \\\n",
      "0   1  4/4/2021  Alabama  Birmingham  2017      Ford                 F-150   \n",
      "1   2  4/4/2021  Alabama  Birmingham  2004      Ford                Taurus   \n",
      "2   3  4/4/2021  Alabama  Birmingham  2018  Cadillac  Escalade Esv Premium   \n",
      "\n",
      "    Type  Mileage  Price Condition    Cylinders   Fuel Transmission  \\\n",
      "0  Truck    44000  40000  Like New  6 Cylinders    Gas    Automatic   \n",
      "1  Sedan   193049   2950      Good  6 Cylinders    Gas    Automatic   \n",
      "2    Suv    72367  51990      Good  8 Cylinders  Other    Automatic   \n",
      "\n",
      "  Drivetrain   Paint TitleStatus  \n",
      "0        RWD    Blue       Clean  \n",
      "1        FWD  Silver       Clean  \n",
      "2        AWD   Black       Clean  \n"
     ]
    }
   ],
   "source": [
    "print(data.head(3))"
   ]
  },
  {
   "cell_type": "code",
   "execution_count": 15,
   "id": "82749d8f-80e6-4f74-a380-211007b1addc",
   "metadata": {},
   "outputs": [
    {
     "name": "stdout",
     "output_type": "stream",
     "text": [
      "            ID  PostDate    State   Region  Year    Make  \\\n",
      "108579  108580  5/4/2021  Wyoming  Wyoming  2016  Nissan   \n",
      "108580  108581  5/4/2021  Wyoming  Wyoming  2017     Ram   \n",
      "108581  108582  5/4/2021  Wyoming  Wyoming  2000  Toyota   \n",
      "\n",
      "                       Model   Type  Mileage  Price  Condition    Cylinders  \\\n",
      "108579  Frontier Crew Cab Sv  Truck    38282  25590       Good  6 Cylinders   \n",
      "108580         1500 Crew Cab  Truck    15498  31990       Good  8 Cylinders   \n",
      "108581            Tacoma Sr5  Truck   265000  15000  Excellent  4 Cylinders   \n",
      "\n",
      "       Fuel Transmission Drivetrain   Paint TitleStatus  \n",
      "108579  Gas    Automatic        FWD  Silver       Clean  \n",
      "108580  Gas    Automatic        AWD  Silver       Clean  \n",
      "108581  Gas       Manual        AWD   Green       Clean  \n"
     ]
    }
   ],
   "source": [
    "print(data.tail(3))"
   ]
  },
  {
   "cell_type": "code",
   "execution_count": null,
   "id": "1a3cb5f6-a66a-4a8d-950f-d75c4b8b563e",
   "metadata": {},
   "outputs": [],
   "source": []
  }
 ],
 "metadata": {
  "kernelspec": {
   "display_name": "Python 3 (ipykernel)",
   "language": "python",
   "name": "python3"
  },
  "language_info": {
   "codemirror_mode": {
    "name": "ipython",
    "version": 3
   },
   "file_extension": ".py",
   "mimetype": "text/x-python",
   "name": "python",
   "nbconvert_exporter": "python",
   "pygments_lexer": "ipython3",
   "version": "3.11.4"
  }
 },
 "nbformat": 4,
 "nbformat_minor": 5
}
